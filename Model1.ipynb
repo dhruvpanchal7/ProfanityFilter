{
  "nbformat": 4,
  "nbformat_minor": 0,
  "metadata": {
    "colab": {
      "name": "Model1.ipynb",
      "provenance": [],
      "collapsed_sections": []
    },
    "kernelspec": {
      "name": "python3",
      "display_name": "Python 3"
    },
    "language_info": {
      "name": "python"
    }
  },
  "cells": [
    {
      "cell_type": "code",
      "metadata": {
        "colab": {
          "base_uri": "https://localhost:8080/"
        },
        "id": "BSCW5WqsYmMR",
        "outputId": "2563451b-afe5-469a-ac75-d65f12531af1"
      },
      "source": [
        "import nltk\n",
        "from nltk.tokenize import sent_tokenize\n",
        "nltk.download('punkt')\n",
        "nltk.download('stopwords')"
      ],
      "execution_count": null,
      "outputs": [
        {
          "output_type": "stream",
          "text": [
            "[nltk_data] Downloading package punkt to /root/nltk_data...\n",
            "[nltk_data]   Package punkt is already up-to-date!\n",
            "[nltk_data] Downloading package stopwords to /root/nltk_data...\n",
            "[nltk_data]   Unzipping corpora/stopwords.zip.\n"
          ],
          "name": "stdout"
        },
        {
          "output_type": "execute_result",
          "data": {
            "text/plain": [
              "True"
            ]
          },
          "metadata": {
            "tags": []
          },
          "execution_count": 11
        }
      ]
    },
    {
      "cell_type": "code",
      "metadata": {
        "id": "xZadn9c2WmGC"
      },
      "source": [
        "text=\"\"\"Hello Mr. Dhwanil, How are you doing today? Hope you are doing good and weather is awesome today.\n",
        "It's a good day for hiking and we should do some hiking.You are bullshit.\"\"\""
      ],
      "execution_count": null,
      "outputs": []
    },
    {
      "cell_type": "code",
      "metadata": {
        "colab": {
          "base_uri": "https://localhost:8080/"
        },
        "id": "g3YOqG4XVKJk",
        "outputId": "54cd0256-edfe-4528-ea9f-7f81695dabb6"
      },
      "source": [
        "from nltk.tokenize import sent_tokenize\n",
        "tokenized_text=sent_tokenize(text)\n",
        "print(tokenized_text)"
      ],
      "execution_count": null,
      "outputs": [
        {
          "output_type": "stream",
          "text": [
            "['Hello Mr. Dhwanil, How are you doing today?', 'Hope you are doing good and weather is awesome today.', \"It's a good day for hiking and we should do some hiking.\"]\n"
          ],
          "name": "stdout"
        }
      ]
    },
    {
      "cell_type": "code",
      "metadata": {
        "colab": {
          "base_uri": "https://localhost:8080/"
        },
        "id": "f2alV74vYsEq",
        "outputId": "6ebe3eb1-db67-45cd-968f-b0b0c721fb9f"
      },
      "source": [
        "from nltk.tokenize import word_tokenize\n",
        "tokenized_word=word_tokenize(text)\n",
        "print(tokenized_word)"
      ],
      "execution_count": null,
      "outputs": [
        {
          "output_type": "stream",
          "text": [
            "['Hello', 'Mr.', 'Dhwanil', ',', 'How', 'are', 'you', 'doing', 'today', '?', 'Hope', 'you', 'are', 'doing', 'good', 'and', 'weather', 'is', 'awesome', 'today', '.', 'It', \"'s\", 'a', 'good', 'day', 'for', 'hiking', 'and', 'we', 'should', 'do', 'some', 'hiking', '.']\n"
          ],
          "name": "stdout"
        }
      ]
    },
    {
      "cell_type": "code",
      "metadata": {
        "colab": {
          "base_uri": "https://localhost:8080/"
        },
        "id": "o6txbTHEZrlN",
        "outputId": "de2160ac-917f-46de-aca1-47bb10995600"
      },
      "source": [
        "Lowercase = []\n",
        "for lowercase in tokenized_word:\n",
        "    Lowercase.append(lowercase.lower())\n",
        "print(Lowercase)"
      ],
      "execution_count": null,
      "outputs": [
        {
          "output_type": "stream",
          "text": [
            "['hello', 'mr.', 'dhwanil', ',', 'how', 'are', 'you', 'doing', 'today', '?', 'hope', 'you', 'are', 'doing', 'good', 'and', 'weather', 'is', 'awesome', 'today', '.', 'it', \"'s\", 'a', 'good', 'day', 'for', 'hiking', 'and', 'we', 'should', 'do', 'some', 'hiking', '.']\n"
          ],
          "name": "stdout"
        }
      ]
    },
    {
      "cell_type": "code",
      "metadata": {
        "colab": {
          "base_uri": "https://localhost:8080/"
        },
        "id": "sPVTJOD-Y-A4",
        "outputId": "3a4bf9e7-63c4-4953-b502-96c738d609b2"
      },
      "source": [
        "from nltk.probability import FreqDist\n",
        "fdist = FreqDist(tokenized_word)\n",
        "print(fdist)"
      ],
      "execution_count": null,
      "outputs": [
        {
          "output_type": "stream",
          "text": [
            "<FreqDist with 27 samples and 35 outcomes>\n"
          ],
          "name": "stdout"
        }
      ]
    },
    {
      "cell_type": "code",
      "metadata": {
        "colab": {
          "base_uri": "https://localhost:8080/"
        },
        "id": "2Q5KNuMPZAXo",
        "outputId": "db1ca39c-c748-4a74-d52b-ff5062fd60d5"
      },
      "source": [
        "fdist.most_common(2)"
      ],
      "execution_count": null,
      "outputs": [
        {
          "output_type": "execute_result",
          "data": {
            "text/plain": [
              "[('are', 2), ('you', 2)]"
            ]
          },
          "metadata": {
            "tags": []
          },
          "execution_count": 26
        }
      ]
    },
    {
      "cell_type": "code",
      "metadata": {
        "colab": {
          "base_uri": "https://localhost:8080/",
          "height": 317
        },
        "id": "H19bW2nVZCFS",
        "outputId": "223da1f6-83eb-4c40-8c86-46a08c26ff4e"
      },
      "source": [
        "import matplotlib.pyplot as plt\n",
        "fdist.plot(30,cumulative=False)\n",
        "plt.show()"
      ],
      "execution_count": null,
      "outputs": [
        {
          "output_type": "display_data",
          "data": {
            "image/png": "[encoded data removed]",
            "text/plain": [
              "<Figure size 432x288 with 1 Axes>"
            ]
          },
          "metadata": {
            "tags": [],
            "needs_background": "light"
          }
        }
      ]
    },
    {
      "cell_type": "code",
      "metadata": {
        "colab": {
          "base_uri": "https://localhost:8080/"
        },
        "id": "w-wmqUeqZD9r",
        "outputId": "0a6315ee-fb6f-4caf-d344-50a542b8710b"
      },
      "source": [
        "from nltk.corpus import stopwords\n",
        "stop_words=set(stopwords.words(\"english\"))\n",
        "print(stop_words)"
      ],
      "execution_count": null,
      "outputs": [
        {
          "output_type": "stream",
          "text": [
            "{'from', 'then', 'before', 'won', 'about', 'hasn', 'up', 'above', \"don't\", 'should', 'some', \"couldn't\", 'for', 'of', 'shan', \"should've\", \"weren't\", 'shouldn', \"isn't\", 'its', 'out', 'more', 'y', \"you'd\", 'to', 'll', 'that', 'whom', 'further', 'again', 'isn', \"you'll\", \"aren't\", \"shan't\", 'not', 'have', 'against', 'than', 'having', 'is', 'themselves', 'too', 'has', \"won't\", 'most', 'no', 'ma', 'did', \"shouldn't\", 'them', 'himself', 'yourselves', 'same', 'does', 'hers', 'there', \"doesn't\", 'o', 'were', 'ourselves', 'you', 'yourself', 'very', 'don', 'myself', \"she's\", 'just', 'itself', 'him', 'after', 'when', 'are', 'this', 'off', 'where', 'both', 'between', 'i', 'doesn', \"you're\", \"wouldn't\", \"haven't\", 'because', 'she', 'needn', \"needn't\", 'been', 'can', 'your', 'weren', 'an', 'am', 'will', 'those', 'being', 'mustn', \"you've\", 'and', 'as', 'haven', \"didn't\", 'yours', 'in', 'they', 'our', 'each', 'all', 'which', 'but', 'here', 'other', 'doing', 'through', 's', 're', 'my', 'a', 'didn', 'these', 'over', 'at', \"hadn't\", 'with', 'me', 'theirs', 'wasn', 'under', 'had', 'the', 'once', 'how', 'few', 'was', 'he', 'nor', 'into', 'only', 'so', 'now', 've', 'any', 'aren', 'ours', 'be', 'until', 't', 'who', 'herself', 'do', \"mightn't\", 'what', 'such', \"that'll\", 'd', \"wasn't\", 'mightn', 'or', 'ain', 'why', 'by', 'her', 'couldn', 'their', \"hasn't\", 'we', 'his', 'below', 'm', 'on', 'it', 'during', \"mustn't\", 'wouldn', 'while', \"it's\", 'down', 'if', 'own', 'hadn'}\n"
          ],
          "name": "stdout"
        }
      ]
    },
    {
      "cell_type": "code",
      "metadata": {
        "colab": {
          "base_uri": "https://localhost:8080/"
        },
        "id": "oYdl_GcVZJ_X",
        "outputId": "1f1c532d-aab4-4789-be3c-a426e950bd1d"
      },
      "source": [
        "filtered_sent=[]\n",
        "for w in tokenized_word:\n",
        "    if w not in stop_words:\n",
        "        filtered_sent.append(w)\n",
        "print(\"Tokenized Sentence:\",tokenized_word)\n",
        "print(\"Filterd Sentence:\",filtered_sent)"
      ],
      "execution_count": null,
      "outputs": [
        {
          "output_type": "stream",
          "text": [
            "Tokenized Sentence: ['Hello', 'Mr.', 'Dhwanil', ',', 'How', 'are', 'you', 'doing', 'today', '?', 'Hope', 'you', 'are', 'doing', 'good', 'and', 'weather', 'is', 'awesome', 'today', '.', 'It', \"'s\", 'a', 'good', 'day', 'for', 'hiking', 'and', 'we', 'should', 'do', 'some', 'hiking', '.']\n",
            "Filterd Sentence: ['Hello', 'Mr.', 'Dhwanil', ',', 'How', 'today', '?', 'Hope', 'good', 'weather', 'awesome', 'today', '.', 'It', \"'s\", 'good', 'day', 'hiking', 'hiking', '.']\n"
          ],
          "name": "stdout"
        }
      ]
    },
    {
      "cell_type": "code",
      "metadata": {
        "colab": {
          "base_uri": "https://localhost:8080/"
        },
        "id": "3poCg5kcZMOq",
        "outputId": "f0f1c558-1b86-4d17-d600-391f57913f37"
      },
      "source": [
        "# Stemming\n",
        "from nltk.stem import PorterStemmer\n",
        "from nltk.tokenize import sent_tokenize, word_tokenize\n",
        "\n",
        "ps = PorterStemmer()\n",
        "\n",
        "stemmed_words=[]\n",
        "for w in filtered_sent:\n",
        "    stemmed_words.append(ps.stem(w))\n",
        "\n",
        "print(\"Filtered Sentence:\",filtered_sent)\n",
        "print(\"Stemmed Sentence:\",stemmed_words)"
      ],
      "execution_count": null,
      "outputs": [
        {
          "output_type": "stream",
          "text": [
            "Filtered Sentence: ['Hello', 'Mr.', 'Dhwanil', ',', 'How', 'today', '?', 'Hope', 'good', 'weather', 'awesome', 'today', '.', 'It', \"'s\", 'good', 'day', 'hiking', 'hiking', '.']\n",
            "Stemmed Sentence: ['hello', 'mr.', 'dhwanil', ',', 'how', 'today', '?', 'hope', 'good', 'weather', 'awesom', 'today', '.', 'It', \"'s\", 'good', 'day', 'hike', 'hike', '.']\n"
          ],
          "name": "stdout"
        }
      ]
    },
    {
      "cell_type": "code",
      "metadata": {
        "colab": {
          "base_uri": "https://localhost:8080/"
        },
        "id": "y4PWUzrnZjrY",
        "outputId": "7e88f134-25cc-496c-943d-d104f1eecdfc"
      },
      "source": [
        "pip install profanity-filter"
      ],
      "execution_count": null,
      "outputs": [
        {
          "output_type": "stream",
          "text": [
            "Collecting profanity-filter\n",
            "  Downloading profanity_filter-1.3.3-py3-none-any.whl (45 kB)\n",
            "\u001b[?25l\r\u001b[K     |███████▏                        | 10 kB 23.3 MB/s eta 0:00:01\r\u001b[K     |██████████████▎                 | 20 kB 28.9 MB/s eta 0:00:01\r\u001b[K     |█████████████████████▍          | 30 kB 30.2 MB/s eta 0:00:01\r\u001b[K     |████████████████████████████▌   | 40 kB 32.2 MB/s eta 0:00:01\r\u001b[K     |████████████████████████████████| 45 kB 3.4 MB/s \n",
            "\u001b[?25hCollecting ordered-set<4.0,>=3.0\n",
            "  Downloading ordered-set-3.1.1.tar.gz (10 kB)\n",
            "Requirement already satisfied: cached-property<2.0,>=1.5 in /usr/local/lib/python3.7/dist-packages (from profanity-filter) (1.5.2)\n",
            "Collecting ordered-set-stubs<0.2.0,>=0.1.3\n",
            "  Downloading ordered_set_stubs-0.1.3-py2.py3-none-any.whl (4.8 kB)\n",
            "Collecting poetry-version<0.2.0,>=0.1.3\n",
            "  Downloading poetry_version-0.1.5-py2.py3-none-any.whl (13 kB)\n",
            "Collecting pydantic<2.0,>=1.3\n",
            "  Downloading pydantic-1.8.2-cp37-cp37m-manylinux2014_x86_64.whl (10.1 MB)\n",
            "\u001b[K     |████████████████████████████████| 10.1 MB 24.1 MB/s \n",
            "\u001b[?25hCollecting redis<4.0,>=3.2\n",
            "  Downloading redis-3.5.3-py2.py3-none-any.whl (72 kB)\n",
            "\u001b[K     |████████████████████████████████| 72 kB 573 kB/s \n",
            "\u001b[?25hCollecting ruamel.yaml<0.16.0,>=0.15.89\n",
            "  Downloading ruamel.yaml-0.15.100-cp37-cp37m-manylinux1_x86_64.whl (654 kB)\n",
            "\u001b[K     |████████████████████████████████| 654 kB 42.5 MB/s \n",
            "\u001b[?25hRequirement already satisfied: more-itertools<9.0,>=8.0 in /usr/local/lib/python3.7/dist-packages (from profanity-filter) (8.8.0)\n",
            "Requirement already satisfied: spacy<3.0,>=2.0 in /usr/local/lib/python3.7/dist-packages (from profanity-filter) (2.2.4)\n",
            "Collecting tomlkit<0.6.0,>=0.4.6\n",
            "  Downloading tomlkit-0.5.11-py2.py3-none-any.whl (31 kB)\n",
            "Requirement already satisfied: typing-extensions>=3.7.4.3 in /usr/local/lib/python3.7/dist-packages (from pydantic<2.0,>=1.3->profanity-filter) (3.7.4.3)\n",
            "Requirement already satisfied: blis<0.5.0,>=0.4.0 in /usr/local/lib/python3.7/dist-packages (from spacy<3.0,>=2.0->profanity-filter) (0.4.1)\n",
            "Requirement already satisfied: cymem<2.1.0,>=2.0.2 in /usr/local/lib/python3.7/dist-packages (from spacy<3.0,>=2.0->profanity-filter) (2.0.5)\n",
            "Requirement already satisfied: numpy>=1.15.0 in /usr/local/lib/python3.7/dist-packages (from spacy<3.0,>=2.0->profanity-filter) (1.19.5)\n",
            "Requirement already satisfied: requests<3.0.0,>=2.13.0 in /usr/local/lib/python3.7/dist-packages (from spacy<3.0,>=2.0->profanity-filter) (2.23.0)\n",
            "Requirement already satisfied: setuptools in /usr/local/lib/python3.7/dist-packages (from spacy<3.0,>=2.0->profanity-filter) (57.2.0)\n",
            "Requirement already satisfied: plac<1.2.0,>=0.9.6 in /usr/local/lib/python3.7/dist-packages (from spacy<3.0,>=2.0->profanity-filter) (1.1.3)\n",
            "Requirement already satisfied: preshed<3.1.0,>=3.0.2 in /usr/local/lib/python3.7/dist-packages (from spacy<3.0,>=2.0->profanity-filter) (3.0.5)\n",
            "Requirement already satisfied: srsly<1.1.0,>=1.0.2 in /usr/local/lib/python3.7/dist-packages (from spacy<3.0,>=2.0->profanity-filter) (1.0.5)\n",
            "Requirement already satisfied: catalogue<1.1.0,>=0.0.7 in /usr/local/lib/python3.7/dist-packages (from spacy<3.0,>=2.0->profanity-filter) (1.0.0)\n",
            "Requirement already satisfied: tqdm<5.0.0,>=4.38.0 in /usr/local/lib/python3.7/dist-packages (from spacy<3.0,>=2.0->profanity-filter) (4.41.1)\n",
            "Requirement already satisfied: thinc==7.4.0 in /usr/local/lib/python3.7/dist-packages (from spacy<3.0,>=2.0->profanity-filter) (7.4.0)\n",
            "Requirement already satisfied: murmurhash<1.1.0,>=0.28.0 in /usr/local/lib/python3.7/dist-packages (from spacy<3.0,>=2.0->profanity-filter) (1.0.5)\n",
            "Requirement already satisfied: wasabi<1.1.0,>=0.4.0 in /usr/local/lib/python3.7/dist-packages (from spacy<3.0,>=2.0->profanity-filter) (0.8.2)\n",
            "Requirement already satisfied: importlib-metadata>=0.20 in /usr/local/lib/python3.7/dist-packages (from catalogue<1.1.0,>=0.0.7->spacy<3.0,>=2.0->profanity-filter) (4.6.1)\n",
            "Requirement already satisfied: zipp>=0.5 in /usr/local/lib/python3.7/dist-packages (from importlib-metadata>=0.20->catalogue<1.1.0,>=0.0.7->spacy<3.0,>=2.0->profanity-filter) (3.5.0)\n",
            "Requirement already satisfied: urllib3!=1.25.0,!=1.25.1,<1.26,>=1.21.1 in /usr/local/lib/python3.7/dist-packages (from requests<3.0.0,>=2.13.0->spacy<3.0,>=2.0->profanity-filter) (1.24.3)\n",
            "Requirement already satisfied: chardet<4,>=3.0.2 in /usr/local/lib/python3.7/dist-packages (from requests<3.0.0,>=2.13.0->spacy<3.0,>=2.0->profanity-filter) (3.0.4)\n",
            "Requirement already satisfied: idna<3,>=2.5 in /usr/local/lib/python3.7/dist-packages (from requests<3.0.0,>=2.13.0->spacy<3.0,>=2.0->profanity-filter) (2.10)\n",
            "Requirement already satisfied: certifi>=2017.4.17 in /usr/local/lib/python3.7/dist-packages (from requests<3.0.0,>=2.13.0->spacy<3.0,>=2.0->profanity-filter) (2021.5.30)\n",
            "Building wheels for collected packages: ordered-set\n",
            "  Building wheel for ordered-set (setup.py) ... \u001b[?25l\u001b[?25hdone\n",
            "  Created wheel for ordered-set: filename=ordered_set-3.1.1-py2.py3-none-any.whl size=7822 sha256=dd86301d6bb8454810cfb757535c5032bf697dea1ba9e67ec8217643a7dc5acb\n",
            "  Stored in directory: /root/.cache/pip/wheels/10/91/db/f8476865ccd2187467d2926d9f965673b4886175b6babca6b9\n",
            "Successfully built ordered-set\n",
            "Installing collected packages: tomlkit, ruamel.yaml, redis, pydantic, poetry-version, ordered-set-stubs, ordered-set, profanity-filter\n",
            "Successfully installed ordered-set-3.1.1 ordered-set-stubs-0.1.3 poetry-version-0.1.5 profanity-filter-1.3.3 pydantic-1.8.2 redis-3.5.3 ruamel.yaml-0.15.100 tomlkit-0.5.11\n"
          ],
          "name": "stdout"
        }
      ]
    },
    {
      "cell_type": "code",
      "metadata": {
        "id": "LGZn3aL6bI7R"
      },
      "source": [
        "import spacy\n",
        "from profanity_filter import ProfanityFilter\n",
        "\n",
        "nlp = spacy.load('en')\n",
        "\n"
      ],
      "execution_count": null,
      "outputs": []
    },
    {
      "cell_type": "code",
      "metadata": {
        "colab": {
          "base_uri": "https://localhost:8080/"
        },
        "id": "sPHOkvITbOP5",
        "outputId": "5e10e3c5-fc1d-4b5b-9ef3-f05405e9a9ac"
      },
      "source": [
        "profanity_filter = ProfanityFilter(nlps={'en': nlp})\n",
        "nlp.add_pipe(profanity_filter.spacy_component, last=True)\n",
        "\n",
        "doc = nlp(\"'It's here! The new AMP63 pistol is now available via in-game challenge and Store bundle.  Let's do this. You bullshit.'\")\n",
        "doc"
      ],
      "execution_count": null,
      "outputs": [
        {
          "output_type": "execute_result",
          "data": {
            "text/plain": [
              "'It's here! The new AMP63 pistol is now available via in-game challenge and Store bundle.  Let's do this. You bullshit.'"
            ]
          },
          "metadata": {
            "tags": []
          },
          "execution_count": 16
        }
      ]
    },
    {
      "cell_type": "code",
      "metadata": {
        "colab": {
          "base_uri": "https://localhost:8080/"
        },
        "id": "BoM4PHDZbaNO",
        "outputId": "238dbeec-1159-421e-f26a-32c15f5dbedc"
      },
      "source": [
        "doc._.is_profane\n",
        "\n",
        "for token in doc:\n",
        "  if token._.is_profane: \n",
        "    print(f'{token}: '\n",
        "          f'censored={token._.censored}, '\n",
        "          \"\\n\"f'is_profane={token._.is_profane}, '\n",
        "          f'original_profane_word={token._.original_profane_word}'\n",
        "    )\n",
        "    "
      ],
      "execution_count": null,
      "outputs": [
        {
          "output_type": "stream",
          "text": [
            "bullshit: censored=********, \n",
            "is_profane=True, original_profane_word=bullshit\n"
          ],
          "name": "stdout"
        }
      ]
    },
    {
      "cell_type": "code",
      "metadata": {
        "id": "uIlo4sZJbfjm"
      },
      "source": [
        ""
      ],
      "execution_count": null,
      "outputs": []
    },
    {
      "cell_type": "code",
      "metadata": {
        "id": "FUit9guFdkWD"
      },
      "source": [
        ""
      ],
      "execution_count": null,
      "outputs": []
    }
  ]
}